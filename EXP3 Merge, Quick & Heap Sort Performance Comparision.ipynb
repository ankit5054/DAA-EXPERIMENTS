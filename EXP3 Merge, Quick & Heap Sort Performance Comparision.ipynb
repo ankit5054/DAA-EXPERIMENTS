{
 "cells": [
  {
   "cell_type": "markdown",
   "metadata": {},
   "source": [
    "# EXPERIMENT 3"
   ]
  },
  {
   "cell_type": "markdown",
   "metadata": {},
   "source": [
    "# Merge, Quick & Heap Sort Performance Comparision"
   ]
  },
  {
   "cell_type": "markdown",
   "metadata": {},
   "source": [
    "### Dependencie's"
   ]
  },
  {
   "cell_type": "code",
   "execution_count": 4,
   "metadata": {},
   "outputs": [],
   "source": [
    "import numpy as np\n",
    "import time\n",
    "import matplotlib.pyplot as plt"
   ]
  },
  {
   "cell_type": "markdown",
   "metadata": {},
   "source": [
    "## MERGE SORT"
   ]
  },
  {
   "cell_type": "code",
   "execution_count": 21,
   "metadata": {},
   "outputs": [],
   "source": [
    "def mergeSort(arr): \n",
    "    if len(arr) >1: \n",
    "        mid = len(arr)//2  \n",
    "        L = arr[:mid]   \n",
    "        R = arr[mid:] \n",
    "        mergeSort(L)  \n",
    "        mergeSort(R) \n",
    "        i = j = k = 0\n",
    "          \n",
    "        while i < len(L) and j < len(R): \n",
    "            if L[i] < R[j]: \n",
    "                arr[k] = L[i] \n",
    "                i+=1\n",
    "            else: \n",
    "                arr[k] = R[j] \n",
    "                j+=1\n",
    "            k+=1\n",
    "          \n",
    "        while i < len(L): \n",
    "            arr[k] = L[i] \n",
    "            i+=1\n",
    "            k+=1\n",
    "          \n",
    "        while j < len(R): \n",
    "            arr[k] = R[j] \n",
    "            j+=1\n",
    "            k+=1"
   ]
  },
  {
   "cell_type": "code",
   "execution_count": 22,
   "metadata": {},
   "outputs": [],
   "source": [
    "def simmergeSort(inp):\n",
    "    time_lin=[]\n",
    "    for i in range(len(inp)):\n",
    "        print(inp[i])\n",
    "        l=np.random.randint(1,100000,inp[i])    \n",
    "        start=time.time()\n",
    "        mergeSort(l)\n",
    "        time_lin.append(time.time()-start)\n",
    "    return time_lin"
   ]
  },
  {
   "cell_type": "code",
   "execution_count": 23,
   "metadata": {},
   "outputs": [],
   "source": [
    "inp=[50000,60000,70000,80000,90000,100000,150000,200000,250000]"
   ]
  },
  {
   "cell_type": "code",
   "execution_count": 24,
   "metadata": {},
   "outputs": [
    {
     "name": "stdout",
     "output_type": "stream",
     "text": [
      "50000\n",
      "60000\n",
      "70000\n",
      "80000\n",
      "90000\n",
      "100000\n",
      "150000\n",
      "200000\n",
      "250000\n"
     ]
    }
   ],
   "source": [
    "time_sim_m=simmergeSort(inp)"
   ]
  },
  {
   "cell_type": "code",
   "execution_count": 25,
   "metadata": {},
   "outputs": [
    {
     "data": {
      "text/plain": [
       "[1.0522387027740479,\n",
       " 1.1961338520050049,\n",
       " 1.484959363937378,\n",
       " 1.6975631713867188,\n",
       " 1.9825396537780762,\n",
       " 2.2165474891662598,\n",
       " 3.4755465984344482,\n",
       " 5.622258424758911,\n",
       " 6.548883676528931]"
      ]
     },
     "execution_count": 25,
     "metadata": {},
     "output_type": "execute_result"
    }
   ],
   "source": [
    "time_sim_m"
   ]
  },
  {
   "cell_type": "markdown",
   "metadata": {},
   "source": [
    "## QUICK SORT"
   ]
  },
  {
   "cell_type": "code",
   "execution_count": 26,
   "metadata": {},
   "outputs": [],
   "source": [
    "def partition(arr,low,high): \n",
    "    i = ( low-1 )         \n",
    "    pivot = arr[high]      \n",
    "  \n",
    "    for j in range(low , high):   \n",
    "        if   arr[j] < pivot: \n",
    "          \n",
    "            i = i+1 \n",
    "            arr[i],arr[j] = arr[j],arr[i] \n",
    "  \n",
    "    arr[i+1],arr[high] = arr[high],arr[i+1] \n",
    "    return ( i+1 ) \n",
    "  \n",
    "\n",
    "def quickSort(arr,low,high): \n",
    "    if low < high: \n",
    "        pi = partition(arr,low,high) \n",
    "        quickSort(arr, low, pi-1) \n",
    "        quickSort(arr, pi+1, high) \n",
    "  "
   ]
  },
  {
   "cell_type": "code",
   "execution_count": 27,
   "metadata": {},
   "outputs": [],
   "source": [
    "def simquickSort(inp):\n",
    "    time_lin=[]\n",
    "    for i in range(len(inp)):\n",
    "        print(inp[i])\n",
    "        l=np.random.randint(1,100000,inp[i])    \n",
    "        start=time.time()\n",
    "        quickSort(l,0,len(l)-1)\n",
    "        time_lin.append(time.time()-start)\n",
    "    return time_lin"
   ]
  },
  {
   "cell_type": "code",
   "execution_count": 28,
   "metadata": {},
   "outputs": [
    {
     "name": "stdout",
     "output_type": "stream",
     "text": [
      "50000\n",
      "60000\n",
      "70000\n",
      "80000\n",
      "90000\n",
      "100000\n",
      "150000\n",
      "200000\n",
      "250000\n"
     ]
    }
   ],
   "source": [
    "time_sim_q=simquickSort(inp)"
   ]
  },
  {
   "cell_type": "code",
   "execution_count": 29,
   "metadata": {},
   "outputs": [
    {
     "data": {
      "text/plain": [
       "[0.7771961688995361,\n",
       " 0.9130001068115234,\n",
       " 1.0661513805389404,\n",
       " 1.2070825099945068,\n",
       " 1.6607825756072998,\n",
       " 1.6461451053619385,\n",
       " 2.722126007080078,\n",
       " 3.627502679824829,\n",
       " 4.622176885604858]"
      ]
     },
     "execution_count": 29,
     "metadata": {},
     "output_type": "execute_result"
    }
   ],
   "source": [
    "time_sim_q"
   ]
  },
  {
   "cell_type": "markdown",
   "metadata": {},
   "source": [
    "## HEAP SORT"
   ]
  },
  {
   "cell_type": "code",
   "execution_count": 30,
   "metadata": {},
   "outputs": [],
   "source": [
    "def heapify(arr, n, i): \n",
    "    largest = i  \n",
    "    l = 2 * i + 1     \n",
    "    r = 2 * i + 2     \n",
    "    if l < n and arr[i] < arr[l]: \n",
    "        largest = l \n",
    "   \n",
    "    if r < n and arr[largest] < arr[r]: \n",
    "        largest = r \n",
    "  \n",
    "    if largest != i: \n",
    "        arr[i],arr[largest] = arr[largest],arr[i]  \n",
    "        heapify(arr, n, largest) \n",
    "  \n",
    "def heapSort(arr): \n",
    "    n = len(arr) \n",
    "  \n",
    "    for i in range(n, -1, -1): \n",
    "        heapify(arr, n, i) \n",
    "  \n",
    "    for i in range(n-1, 0, -1): \n",
    "        arr[i], arr[0] = arr[0], arr[i]  \n",
    "        heapify(arr, i, 0) \n"
   ]
  },
  {
   "cell_type": "code",
   "execution_count": 31,
   "metadata": {},
   "outputs": [],
   "source": [
    "def simheapSort(inp):\n",
    "    time_lin=[]\n",
    "    for i in range(len(inp)):\n",
    "        print(inp[i])\n",
    "        l=np.random.randint(1,100000,inp[i])    \n",
    "        start=time.time()\n",
    "        heapSort(l)\n",
    "        time_lin.append(time.time()-start)\n",
    "    return time_lin"
   ]
  },
  {
   "cell_type": "code",
   "execution_count": 32,
   "metadata": {},
   "outputs": [
    {
     "name": "stdout",
     "output_type": "stream",
     "text": [
      "50000\n",
      "60000\n",
      "70000\n",
      "80000\n",
      "90000\n",
      "100000\n",
      "150000\n",
      "200000\n",
      "250000\n"
     ]
    }
   ],
   "source": [
    "time_sim_h=simheapSort(inp)"
   ]
  },
  {
   "cell_type": "code",
   "execution_count": 33,
   "metadata": {},
   "outputs": [
    {
     "data": {
      "text/plain": [
       "[1.9091062545776367,\n",
       " 2.275212287902832,\n",
       " 2.5654547214508057,\n",
       " 3.060831069946289,\n",
       " 3.6210274696350098,\n",
       " 4.1496570110321045,\n",
       " 6.080840826034546,\n",
       " 8.521018505096436,\n",
       " 11.200595140457153]"
      ]
     },
     "execution_count": 33,
     "metadata": {},
     "output_type": "execute_result"
    }
   ],
   "source": [
    "time_sim_h"
   ]
  },
  {
   "cell_type": "markdown",
   "metadata": {},
   "source": [
    "## COMPARISION GRAPH"
   ]
  },
  {
   "cell_type": "code",
   "execution_count": 34,
   "metadata": {},
   "outputs": [],
   "source": [
    "import matplotlib.pyplot as plt\n"
   ]
  },
  {
   "cell_type": "code",
   "execution_count": 35,
   "metadata": {},
   "outputs": [
    {
     "data": {
      "text/plain": [
       "Text(0, 0.5, 'TIME TAKEN (in Seconds)')"
      ]
     },
     "execution_count": 35,
     "metadata": {},
     "output_type": "execute_result"
    },
    {
     "data": {
      "image/png": "[encoded data removed]",
      "text/plain": [
       "<Figure size 432x288 with 1 Axes>"
      ]
     },
     "metadata": {
      "needs_background": "light"
     },
     "output_type": "display_data"
    }
   ],
   "source": [
    "plt.plot(inp,time_sim_m,\"-\",label='MERGE SORT')\n",
    "\n",
    "plt.plot(inp,time_sim_h,'--',label=\"HEAP SORT\")\n",
    "\n",
    "plt.plot(inp,time_sim_q,'o-',label='QUICK SORT')\n",
    "\n",
    "plt.legend()\n",
    "plt.xlabel('INPUT SIZE (n->∞)')\n",
    "plt.ylabel('TIME TAKEN (in Seconds)')"
   ]
  }
 ],
 "metadata": {
  "kernelspec": {
   "display_name": "Python 3",
   "language": "python",
   "name": "python3"
  },
  "language_info": {
   "codemirror_mode": {
    "name": "ipython",
    "version": 3
   },
   "file_extension": ".py",
   "mimetype": "text/x-python",
   "name": "python",
   "nbconvert_exporter": "python",
   "pygments_lexer": "ipython3",
   "version": "3.7.3"
  }
 },
 "nbformat": 4,
 "nbformat_minor": 2
}
