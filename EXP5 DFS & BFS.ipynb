{
 "cells": [
  {
   "cell_type": "markdown",
   "metadata": {},
   "source": [
    "# EXPERIMENT 5"
   ]
  },
  {
   "cell_type": "markdown",
   "metadata": {},
   "source": [
    "# DFS & BFS"
   ]
  },
  {
   "cell_type": "code",
   "execution_count": 1,
   "metadata": {},
   "outputs": [],
   "source": [
    "import numpy as np"
   ]
  },
  {
   "cell_type": "markdown",
   "metadata": {},
   "source": [
    "### BREADTH FIRST SEARCH"
   ]
  },
  {
   "cell_type": "code",
   "execution_count": 5,
   "metadata": {},
   "outputs": [],
   "source": [
    "def BFS(tree,level=[\"A\"]):\n",
    "    bfs_list=[]\n",
    "    if len(level)>0:\n",
    "        bfs_list += level\n",
    "        sub_level=[]\n",
    "        for vertex in level:\n",
    "            sub_level+=tree[vertex]\n",
    "        bfs_list+=BFS(tree,sub_level)\n",
    "    return bfs_list"
   ]
  },
  {
   "cell_type": "code",
   "execution_count": 6,
   "metadata": {},
   "outputs": [],
   "source": [
    "tree={\"A\":[\"C\",\"D\"],\"C\":[\"P\",\"R\",\"L\"],\"R\":[\"O\",\"E\"],\"G\":[\"N\",\"M\"],\"Q\":[\"G\",\"H\"],\"D\":[\"F\",\"Q\",\"S\"],\"P\":[],\"L\":[],\"N\":[],\"M\":[],\"H\":[],\"S\":[],\"F\":[],\"O\":[],\"E\":[]}"
   ]
  },
  {
   "cell_type": "code",
   "execution_count": 7,
   "metadata": {
    "scrolled": true
   },
   "outputs": [
    {
     "name": "stdout",
     "output_type": "stream",
     "text": [
      "['A', 'C', 'D', 'P', 'R', 'L', 'F', 'Q', 'S', 'O', 'E', 'G', 'H', 'N', 'M']\n"
     ]
    }
   ],
   "source": [
    "print(BFS(tree))"
   ]
  },
  {
   "cell_type": "markdown",
   "metadata": {},
   "source": [
    "### DEPTH FIRST SEARCH"
   ]
  },
  {
   "cell_type": "code",
   "execution_count": 14,
   "metadata": {},
   "outputs": [],
   "source": [
    "def dfs_recursive(graph,vertex,path=[]):\n",
    "    path+=[vertex]\n",
    "    for neighbor in graph[vertex]:\n",
    "        if neighbor not in path:\n",
    "            path=dfs_recursive(graph,neighbor,path)\n",
    "    return path"
   ]
  },
  {
   "cell_type": "code",
   "execution_count": 15,
   "metadata": {},
   "outputs": [],
   "source": [
    "adjacency_matrix={1:[2,3],2:[4,5],3:[5],4:[6],5:[6],6:[7],7:[]}"
   ]
  },
  {
   "cell_type": "code",
   "execution_count": 16,
   "metadata": {},
   "outputs": [
    {
     "name": "stdout",
     "output_type": "stream",
     "text": [
      "[3, 5, 6, 7]\n"
     ]
    }
   ],
   "source": [
    "print(dfs_recursive(adjacency_matrix,3))"
   ]
  }
 ],
 "metadata": {
  "kernelspec": {
   "display_name": "Python 3",
   "language": "python",
   "name": "python3"
  },
  "language_info": {
   "codemirror_mode": {
    "name": "ipython",
    "version": 3
   },
   "file_extension": ".py",
   "mimetype": "text/x-python",
   "name": "python",
   "nbconvert_exporter": "python",
   "pygments_lexer": "ipython3",
   "version": "3.7.3"
  }
 },
 "nbformat": 4,
 "nbformat_minor": 2
}
