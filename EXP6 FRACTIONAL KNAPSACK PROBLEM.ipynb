{
 "cells": [
  {
   "cell_type": "markdown",
   "metadata": {},
   "source": [
    "# EXPERIMENT 6"
   ]
  },
  {
   "cell_type": "markdown",
   "metadata": {},
   "source": [
    "# FRACTIONAL KNAPSACK PROBLEM"
   ]
  },
  {
   "cell_type": "code",
   "execution_count": 3,
   "metadata": {},
   "outputs": [],
   "source": [
    "class ItemValue: \n",
    "    def __init__(self, wt, val, ind): \n",
    "        self.wt = wt \n",
    "        self.val = val \n",
    "        self.ind = ind \n",
    "        self.cost = val // wt \n",
    "                                 \n",
    "    def __lt__(self, other): \n",
    "        return self.cost < other.cost \n",
    "  \n",
    "class FractionalKnapSack: \n",
    "    @staticmethod\n",
    "    def getMaxValue(wt, val, capacity): \n",
    "        iVal = [] \n",
    "        for i in range(len(wt)): \n",
    "            iVal.append(ItemValue(wt[i], val[i], i)) \n",
    "  \n",
    "        iVal.sort(reverse = True) \n",
    "  \n",
    "        totalValue = 0\n",
    "        for i in iVal: \n",
    "            curWt = int(i.wt) \n",
    "            curVal = int(i.val) \n",
    "            if capacity - curWt >= 0: \n",
    "                capacity -= curWt \n",
    "                totalValue += curVal \n",
    "            else: \n",
    "                fraction = capacity / curWt \n",
    "                totalValue += curVal * fraction \n",
    "                capacity = int(capacity - (curWt * fraction)) \n",
    "                break\n",
    "        return totalValue \n",
    "\n"
   ]
  },
  {
   "cell_type": "code",
   "execution_count": 7,
   "metadata": {},
   "outputs": [
    {
     "name": "stdout",
     "output_type": "stream",
     "text": [
      "MAX VAUES 240.0\n"
     ]
    }
   ],
   "source": [
    "\n",
    "wt = [20, 40, 20, 30] \n",
    "val = [100, 40, 100, 120] \n",
    "capacity = 50\n",
    "\n",
    "maxValue = FractionalKnapSack.getMaxValue(wt, val, capacity) \n",
    "print(\"MAX VAUES\", maxValue) \n",
    "\n"
   ]
  },
  {
   "cell_type": "code",
   "execution_count": null,
   "metadata": {},
   "outputs": [],
   "source": []
  }
 ],
 "metadata": {
  "kernelspec": {
   "display_name": "Python 3",
   "language": "python",
   "name": "python3"
  },
  "language_info": {
   "codemirror_mode": {
    "name": "ipython",
    "version": 3
   },
   "file_extension": ".py",
   "mimetype": "text/x-python",
   "name": "python",
   "nbconvert_exporter": "python",
   "pygments_lexer": "ipython3",
   "version": "3.7.3"
  }
 },
 "nbformat": 4,
 "nbformat_minor": 2
}
