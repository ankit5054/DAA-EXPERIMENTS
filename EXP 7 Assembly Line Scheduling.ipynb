{
 "cells": [
  {
   "cell_type": "markdown",
   "metadata": {},
   "source": [
    "# EXPERIMENT 7"
   ]
  },
  {
   "cell_type": "markdown",
   "metadata": {},
   "source": [
    "## Assembly Line Scheduling"
   ]
  },
  {
   "cell_type": "code",
   "execution_count": 1,
   "metadata": {},
   "outputs": [],
   "source": [
    "import numpy as np\n",
    "import time"
   ]
  },
  {
   "cell_type": "code",
   "execution_count": 2,
   "metadata": {},
   "outputs": [],
   "source": [
    "def carAssembly (a, t, e, x): \n",
    "      \n",
    "    NUM_STATION = len(a[0]) \n",
    "    T1 = [0 for i in range(NUM_STATION)] \n",
    "    T2 = [0 for i in range(NUM_STATION)] \n",
    "      \n",
    "    T1[0] = e[0] + a[0][0] \n",
    "    T2[0] = e[1] + a[1][0] \n",
    "    for i in range(1, NUM_STATION): \n",
    "        T1[i] = min(T1[i-1] + a[0][i], \n",
    "                    T2[i-1] + t[1][i] + a[0][i]) \n",
    "        T2[i] = min(T2[i-1] + a[1][i], \n",
    "                    T1[i-1] + t[0][i] + a[1][i] ) \n",
    "  \n",
    "    return min(T1[NUM_STATION - 1] + x[0], \n",
    "               T2[NUM_STATION - 1] + x[1]) \n",
    " "
   ]
  },
  {
   "cell_type": "code",
   "execution_count": 3,
   "metadata": {},
   "outputs": [],
   "source": [
    "samples=[10000,20000,30000,50000,80000,10000,100000,200000,5000000,10000000]"
   ]
  },
  {
   "cell_type": "code",
   "execution_count": 4,
   "metadata": {},
   "outputs": [
    {
     "data": {
      "text/plain": [
       "array([15, 74, 58, 87, 27, 57, 93, 52, 14, 33])"
      ]
     },
     "execution_count": 4,
     "metadata": {},
     "output_type": "execute_result"
    }
   ],
   "source": [
    "np.random.randint(1,100,10)"
   ]
  },
  {
   "cell_type": "code",
   "execution_count": 5,
   "metadata": {},
   "outputs": [
    {
     "name": "stdout",
     "output_type": "stream",
     "text": [
      "time taken to execute for i=10000 is 0.0019960403442382812seconds \n",
      "time taken to execute for i=20000 is 0.006983757019042969seconds \n",
      "time taken to execute for i=30000 is 0.006964445114135742seconds \n",
      "time taken to execute for i=50000 is 0.009004592895507812seconds \n",
      "time taken to execute for i=80000 is 0.01592707633972168seconds \n",
      "time taken to execute for i=10000 is 0.002989530563354492seconds \n",
      "time taken to execute for i=100000 is 0.01997852325439453seconds \n",
      "time taken to execute for i=200000 is 0.03593587875366211seconds \n",
      "time taken to execute for i=5000000 is 0.9205446243286133seconds \n",
      "time taken to execute for i=10000000 is 1.9348957538604736seconds \n"
     ]
    }
   ],
   "source": [
    "a=[]\n",
    "t=[]\n",
    "tim=[]\n",
    "for i in samples:\n",
    "    start_time=time.time()\n",
    "    a.append(list(np.random.randint(1,100,i)))\n",
    "    a.append(list(np.random.randint(1,100,i)))\n",
    "    t.append(list(np.random.randint(1,100,i)))\n",
    "    t.append(list(np.random.randint(1,100,i)))\n",
    "    e=(list(np.random.randint(1,100,2)))\n",
    "    x=(list(np.random.randint(1,100,2)))\n",
    "    tim.append(time.time()-start_time)\n",
    "    print('time taken to execute for i={0} is {1}seconds '.format(i,time.time()-start_time))"
   ]
  },
  {
   "cell_type": "markdown",
   "metadata": {},
   "source": [
    "### Graph of performance"
   ]
  },
  {
   "cell_type": "code",
   "execution_count": 6,
   "metadata": {},
   "outputs": [],
   "source": [
    "import matplotlib.pyplot as plt\n"
   ]
  },
  {
   "cell_type": "code",
   "execution_count": 8,
   "metadata": {},
   "outputs": [
    {
     "data": {
      "text/plain": [
       "Text(0, 0.5, 'TIME TAKEN (in Seconds)')"
      ]
     },
     "execution_count": 8,
     "metadata": {},
     "output_type": "execute_result"
    },
    {
     "data": {
      "image/png": "[encoded data removed]",
      "text/plain": [
       "<Figure size 432x288 with 1 Axes>"
      ]
     },
     "metadata": {
      "needs_background": "light"
     },
     "output_type": "display_data"
    }
   ],
   "source": [
    "plt.plot(samples,tim,\"-\")\n",
    "plt.xlabel('INPUT SIZE (n->∞)')\n",
    "plt.ylabel('TIME TAKEN (in Seconds)')"
   ]
  },
  {
   "cell_type": "code",
   "execution_count": null,
   "metadata": {},
   "outputs": [],
   "source": []
  }
 ],
 "metadata": {
  "kernelspec": {
   "display_name": "Python 3",
   "language": "python",
   "name": "python3"
  },
  "language_info": {
   "codemirror_mode": {
    "name": "ipython",
    "version": 3
   },
   "file_extension": ".py",
   "mimetype": "text/x-python",
   "name": "python",
   "nbconvert_exporter": "python",
   "pygments_lexer": "ipython3",
   "version": "3.7.3"
  }
 },
 "nbformat": 4,
 "nbformat_minor": 2
}
