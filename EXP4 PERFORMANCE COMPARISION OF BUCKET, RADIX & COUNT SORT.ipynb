{
 "cells": [
  {
   "cell_type": "markdown",
   "metadata": {},
   "source": [
    "# EXPERIMENT 4"
   ]
  },
  {
   "cell_type": "markdown",
   "metadata": {},
   "source": [
    "# PERFORMANCE COMPARISION OF BUCKET, RADIX & COUNT SORT"
   ]
  },
  {
   "cell_type": "markdown",
   "metadata": {},
   "source": [
    "### Dependencie's"
   ]
  },
  {
   "cell_type": "code",
   "execution_count": 91,
   "metadata": {},
   "outputs": [],
   "source": [
    "import numpy as np\n",
    "import time\n",
    "import matplotlib.pyplot as plt"
   ]
  },
  {
   "cell_type": "markdown",
   "metadata": {},
   "source": [
    "### COUNTING SORT"
   ]
  },
  {
   "cell_type": "code",
   "execution_count": 92,
   "metadata": {},
   "outputs": [],
   "source": [
    "def counting_sort(array1, max_val):\n",
    "    m = max_val + 1\n",
    "    count = [0] * m                \n",
    "    \n",
    "    for a in array1:\n",
    "        count[a] += 1             \n",
    "    i = 0\n",
    "    for a in range(m):            \n",
    "        for c in range(count[a]):  \n",
    "            array1[i] = a\n",
    "            i += 1\n",
    "    return array1\n",
    "\n"
   ]
  },
  {
   "cell_type": "code",
   "execution_count": 93,
   "metadata": {},
   "outputs": [],
   "source": [
    "def simcountSort(inp):\n",
    "    time_lin=[]\n",
    "    for i in range(len(inp)):\n",
    "        print(inp[i])\n",
    "        l=np.random.randint(1,100,inp[i])\n",
    "        max_val=max(l)\n",
    "        start=time.time()\n",
    "        counting_sort(l,max_val)\n",
    "        time_lin.append(time.time()-start)\n",
    "    return time_lin\n"
   ]
  },
  {
   "cell_type": "code",
   "execution_count": 102,
   "metadata": {},
   "outputs": [],
   "source": [
    "inp=[100000,150000,200000,250000,300000]"
   ]
  },
  {
   "cell_type": "code",
   "execution_count": 95,
   "metadata": {},
   "outputs": [
    {
     "name": "stdout",
     "output_type": "stream",
     "text": [
      "100000\n",
      "150000\n",
      "200000\n",
      "250000\n",
      "300000\n"
     ]
    }
   ],
   "source": [
    "time_sim_c=simcountSort(inp)"
   ]
  },
  {
   "cell_type": "code",
   "execution_count": 96,
   "metadata": {},
   "outputs": [
    {
     "data": {
      "text/plain": [
       "[0.024909496307373047,\n",
       " 0.03492259979248047,\n",
       " 0.05187511444091797,\n",
       " 0.05981707572937012,\n",
       " 0.071807861328125]"
      ]
     },
     "execution_count": 96,
     "metadata": {},
     "output_type": "execute_result"
    }
   ],
   "source": [
    "time_sim_c"
   ]
  },
  {
   "cell_type": "markdown",
   "metadata": {},
   "source": [
    "### BUCKET SORT"
   ]
  },
  {
   "cell_type": "code",
   "execution_count": 97,
   "metadata": {},
   "outputs": [],
   "source": [
    "def insertionSort(b): \n",
    "    for i in range(1, len(b)): \n",
    "        up = b[i] \n",
    "        j = i - 1\n",
    "        while j >=0 and b[j] > up:  \n",
    "            b[j + 1] = b[j] \n",
    "            j -= 1\n",
    "        b[j + 1] = up     \n",
    "    return b      \n",
    "              \n",
    "def bucketSort(x):\n",
    "    m=max(x)\n",
    "    x=x/(m+1)\n",
    "    arr = [] \n",
    "    slot_num = 10   \n",
    "    for i in range(slot_num): \n",
    "        arr.append([]) \n",
    "        \n",
    "    for j in x: \n",
    "        index_b = int(slot_num * j)  \n",
    "        arr[index_b].append(j) \n",
    "      \n",
    "    for i in range(slot_num): \n",
    "        arr[i] = insertionSort(arr[i]) \n",
    "          \n",
    "    k = 0\n",
    "    for i in range(slot_num): \n",
    "        for j in range(len(arr[i])): \n",
    "            x[k] = arr[i][j] \n",
    "            k += 1\n",
    "    x=x*(m+1)\n",
    "\n",
    "    return x "
   ]
  },
  {
   "cell_type": "code",
   "execution_count": 98,
   "metadata": {},
   "outputs": [],
   "source": [
    "def simbucketSort(inp):\n",
    "    time_lin=[]\n",
    "    for i in range(len(inp)):\n",
    "        print(inp[i])\n",
    "        l=np.random.randint(1,100,inp[i])\n",
    "        start=time.time()\n",
    "        bucketSort(l)\n",
    "        time_lin.append(time.time()-start)\n",
    "    return time_lin"
   ]
  },
  {
   "cell_type": "code",
   "execution_count": 103,
   "metadata": {},
   "outputs": [
    {
     "data": {
      "text/plain": [
       "[100000, 150000, 200000, 250000, 300000]"
      ]
     },
     "execution_count": 103,
     "metadata": {},
     "output_type": "execute_result"
    }
   ],
   "source": [
    "inp"
   ]
  },
  {
   "cell_type": "code",
   "execution_count": 104,
   "metadata": {},
   "outputs": [
    {
     "name": "stdout",
     "output_type": "stream",
     "text": [
      "100000\n",
      "150000\n",
      "200000\n",
      "250000\n",
      "300000\n"
     ]
    }
   ],
   "source": [
    "time_sim_b=simbucketSort(inp)"
   ]
  },
  {
   "cell_type": "code",
   "execution_count": 118,
   "metadata": {},
   "outputs": [],
   "source": [
    "time_sim_b=[42.010271310806274,\n",
    " 94.72303557395935,\n",
    " 157.93239498138428,\n",
    " 240.25913071632385,\n",
    " 351.818167924881]"
   ]
  },
  {
   "cell_type": "markdown",
   "metadata": {},
   "source": [
    "### RADIX SORT"
   ]
  },
  {
   "cell_type": "code",
   "execution_count": 113,
   "metadata": {},
   "outputs": [],
   "source": [
    "def radixSort(alist, base=10):\n",
    "    if alist == []:\n",
    "        return\n",
    " \n",
    "    def key_factory(digit, base):\n",
    "        def key(alist, index):\n",
    "            return ((alist[index]//(base**digit)) % base)\n",
    "        return key\n",
    "    largest = max(alist)\n",
    "    exp = 0\n",
    "    while base**exp <= largest:\n",
    "        alist = counting_sort(alist, base - 1, key_factory(exp, base))\n",
    "        exp = exp + 1\n",
    "    return alist\n",
    " \n",
    "def counting_sort(alist, largest, key):\n",
    "    c = [0]*(largest + 1)\n",
    "    for i in range(len(alist)):\n",
    "        c[key(alist, i)] = c[key(alist, i)] + 1\n",
    " \n",
    "    c[0] = c[0] - 1 \n",
    "    for i in range(1, largest + 1):\n",
    "        c[i] = c[i] + c[i - 1]\n",
    " \n",
    "    result = [None]*len(alist)\n",
    "    for i in range(len(alist) - 1, -1, -1):\n",
    "        result[c[key(alist, i)]] = alist[i]\n",
    "        c[key(alist, i)] = c[key(alist, i)] - 1\n",
    " \n",
    "    return result\n"
   ]
  },
  {
   "cell_type": "code",
   "execution_count": 114,
   "metadata": {},
   "outputs": [],
   "source": [
    "def simradixSort(inp):\n",
    "    time_lin=[]\n",
    "    for i in range(len(inp)):\n",
    "        print(inp[i])\n",
    "        l=np.random.randint(1,100,inp[i])\n",
    "        start=time.time()\n",
    "        radixSort(l)\n",
    "        time_lin.append(time.time()-start)\n",
    "    return time_lin"
   ]
  },
  {
   "cell_type": "code",
   "execution_count": 119,
   "metadata": {},
   "outputs": [
    {
     "name": "stdout",
     "output_type": "stream",
     "text": [
      "100000\n"
     ]
    },
    {
     "name": "stderr",
     "output_type": "stream",
     "text": [
      "C:\\Users\\ANKIT MISHRA\\Anaconda3\\lib\\site-packages\\ipykernel_launcher.py:2: DeprecationWarning: elementwise comparison failed; this will raise an error in the future.\n",
      "  \n"
     ]
    },
    {
     "name": "stdout",
     "output_type": "stream",
     "text": [
      "150000\n",
      "200000\n",
      "250000\n",
      "300000\n"
     ]
    }
   ],
   "source": [
    "time_sim_r=simradixSort(inp)"
   ]
  },
  {
   "cell_type": "code",
   "execution_count": 120,
   "metadata": {},
   "outputs": [
    {
     "data": {
      "text/plain": [
       "[0.6763589382171631,\n",
       " 1.0152850151062012,\n",
       " 1.3374500274658203,\n",
       " 1.8072314262390137,\n",
       " 2.0145816802978516]"
      ]
     },
     "execution_count": 120,
     "metadata": {},
     "output_type": "execute_result"
    }
   ],
   "source": [
    "time_sim_r"
   ]
  },
  {
   "cell_type": "markdown",
   "metadata": {},
   "source": [
    "## COMPARISION GRAPH"
   ]
  },
  {
   "cell_type": "code",
   "execution_count": 122,
   "metadata": {},
   "outputs": [
    {
     "data": {
      "text/plain": [
       "Text(0, 0.5, 'TIME TAKEN (in Seconds)')"
      ]
     },
     "execution_count": 122,
     "metadata": {},
     "output_type": "execute_result"
    },
    {
     "data": {
      "image/png": "[encoded data removed]",
      "text/plain": [
       "<Figure size 432x288 with 1 Axes>"
      ]
     },
     "metadata": {
      "needs_background": "light"
     },
     "output_type": "display_data"
    }
   ],
   "source": [
    "import matplotlib.pyplot as plt\n",
    "\n",
    "plt.plot(inp,time_sim_c,\"-\",label='COUNT SORT')\n",
    "plt.plot(inp,time_sim_b,'--',label=\"BUCKET SORT\")\n",
    "plt.plot(inp,time_sim_r,'o-',label='RADIX SORT')\n",
    "\n",
    "plt.legend()\n",
    "plt.xlabel('INPUT SIZE (n->∞)')\n",
    "plt.ylabel('TIME TAKEN (in Seconds)')"
   ]
  },
  {
   "cell_type": "code",
   "execution_count": null,
   "metadata": {},
   "outputs": [],
   "source": []
  }
 ],
 "metadata": {
  "kernelspec": {
   "display_name": "Python 3",
   "language": "python",
   "name": "python3"
  },
  "language_info": {
   "codemirror_mode": {
    "name": "ipython",
    "version": 3
   },
   "file_extension": ".py",
   "mimetype": "text/x-python",
   "name": "python",
   "nbconvert_exporter": "python",
   "pygments_lexer": "ipython3",
   "version": "3.7.3"
  }
 },
 "nbformat": 4,
 "nbformat_minor": 2
}
