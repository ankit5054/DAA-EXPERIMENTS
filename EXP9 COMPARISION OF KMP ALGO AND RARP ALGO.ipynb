{
 "cells": [
  {
   "cell_type": "markdown",
   "metadata": {},
   "source": [
    "# EXPERIMENT 9"
   ]
  },
  {
   "cell_type": "markdown",
   "metadata": {},
   "source": [
    "# COMPARISION OF KMP ALGO AND RARP ALGO"
   ]
  },
  {
   "cell_type": "code",
   "execution_count": 16,
   "metadata": {},
   "outputs": [],
   "source": [
    "import numpy as np\n",
    "import time"
   ]
  },
  {
   "cell_type": "markdown",
   "metadata": {},
   "source": [
    "### RABIN KARP ALGO"
   ]
  },
  {
   "cell_type": "code",
   "execution_count": 17,
   "metadata": {},
   "outputs": [],
   "source": [
    "def Rksearch(pat, txt, q): \n",
    "    M = len(pat) \n",
    "    N = len(txt) \n",
    "    i = 0\n",
    "    j = 0\n",
    "    p = 0     \n",
    "    t = 0     \n",
    "    h = 1\n",
    "    d=0\n",
    "  \n",
    "    for i in range(M-1): \n",
    "        h = (h*d)%q \n",
    "    for i in range(M): \n",
    "        p = (d*p + ord(pat[i]))%q \n",
    "        t = (d*t + ord(txt[i]))%q \n",
    "    for i in range(N-M+1): \n",
    "        if p==t: \n",
    "            for j in range(M): \n",
    "                if txt[i+j] != pat[j]: \n",
    "                    break\n",
    "            j+=1\n",
    "#             if j==M: \n",
    "#                 print(\"Pattern found at index \" + str(i)) \n",
    "\n",
    "        if i < N-M: \n",
    "            t = (d*(t-ord(txt[i])*h) + ord(txt[i+M]))%q   \n",
    "            if t < 0: \n",
    "                t = t+q "
   ]
  },
  {
   "cell_type": "markdown",
   "metadata": {},
   "source": [
    "### KMP ALGO"
   ]
  },
  {
   "cell_type": "code",
   "execution_count": 18,
   "metadata": {},
   "outputs": [],
   "source": [
    "def KMPSearch(pat, txt): \n",
    "    M = len(pat) \n",
    "    N = len(txt) \n",
    "    lps = [0]*M \n",
    "    j = 0 \n",
    "    computePrefix(pat, M, lps) \n",
    "    i = 0  \n",
    "    while i < N: \n",
    "        if pat[j] == txt[i]: \n",
    "            i += 1\n",
    "            j += 1\n",
    "  \n",
    "        if j == M: \n",
    "#             print(\"Found pattern at index \" + str(i-j)) \n",
    "            j = lps[j-1] \n",
    "        elif i < N and pat[j] != txt[i]: \n",
    "            if j != 0: \n",
    "                j = lps[j-1] \n",
    "            else: \n",
    "                i += 1\n",
    "\n",
    "def computePrefix(pat, M, lps): \n",
    "    len = 0 \n",
    "    lps[0]  \n",
    "    i = 1\n",
    "    while i < M: \n",
    "        if pat[i]== pat[len]: \n",
    "            len += 1\n",
    "            lps[i] = len\n",
    "            i += 1\n",
    "        else: \n",
    "            if len != 0: \n",
    "                len = lps[len-1] \n",
    "            else: \n",
    "                lps[i] = 0\n",
    "                i += 1\n",
    "  \n",
    "\n"
   ]
  },
  {
   "cell_type": "code",
   "execution_count": 19,
   "metadata": {},
   "outputs": [],
   "source": [
    "size=[1000,10000,30000,50000,80000,100000,150000,250000,300000,350000,400000,450000,500000]\n",
    "pattern='sdssfsvs'"
   ]
  },
  {
   "cell_type": "code",
   "execution_count": 20,
   "metadata": {},
   "outputs": [],
   "source": [
    "string=[]\n",
    "for i in size:\n",
    "    p=np.random.randint(65,91,i)\n",
    "    s=''\n",
    "    for j in p:\n",
    "        s= s+chr(j)\n",
    "    s= s+'sdssfsvs'\n",
    "    string.append(s)"
   ]
  },
  {
   "cell_type": "code",
   "execution_count": 21,
   "metadata": {},
   "outputs": [
    {
     "data": {
      "text/plain": [
       "'JXRDJVSWUVAHKUHWIAVZPTXZEXWXLTVGDQGBJQLQWIVHFGFGYAVHNNBMCGNQEQXYYSPYMRJUJJHUUINLISTWNQWMCQLOYRIAIAFESRUCFOAHMLKPJQWWNJPWKVUVKWVHRXBJPOHFRZFFHJELKOGSQEBFTEGXMIQVLRFSWSUGURQGIIUVMDDRKZCWJSRJSRQTOUXNGPICLAPAEORVLGJKEYXLITVUZXHLHMNFVFODXGEHJMITQHCFVUQCPYANWIQYQUURMIDPOTPCKJPCGKBHTTCFTBUFGLAZPSVVSFKVEGXWLJMMIYMRERQFFZEUVOLCBVKDKXCBGAYXEYLSKCJUHOWPKVRSAXLOIUEGGWPXPAAOKPKSXFCQLZTFKZWLBOUCYAODNUWKKOXCFORDBKKCVVDZVWJTPOUUHORCZALEIOJDQSRQTQVBEEVBUASSIRVUNSNCVQCTPJERSVBKPZMXQLRJCIVUCPPKIEDSPSUMOQDOFVBLQCALRYMAYTYLROOMIFRICJSNSGLLUFOCEVWFKQCJPCRHZRRSUQWXSJYBKDZPUSQQFZUPMXXGSDGMTAXILQXIMJEEDCVGQOUJPLOULEMUQPUMPFGCZULRNPYIXKWHGDNHYGFQLXHVEXPCOIATUCOEAFBTZBVHXLKBSOCUJTIEOOUCXZGPSMGFOXKOJOVBXSLSHPCTHHOHXVRIBGCMLDEBGPZSCUVYUFMNIWHBCFPOXQDUKHWJZHAOJWDVOZVVIIYTOKEBHASBRLKXKVELGIMEYLPMUNPATUGZBMEIBXJJQPDAPWUAOOJGAUZWHFPINVIDBJIQNXERZLKDXYGQURBLLMRIJZQRLREOHUQUQKKSMEVVUGLYTTEERFCDOHNDILUBTSSVFJYPOHCFCQPMZBPPOUKIALXFSOXHHZIWGVYNLEBGJGOGZHTHQJRQLGKYGEWLKCYKHCWXBXXBAWFJRXDCRLNQCRTXIWXVQUVGCPHCAXFZGRTOEDCCEUUSsdssfsvs'"
      ]
     },
     "execution_count": 21,
     "metadata": {},
     "output_type": "execute_result"
    }
   ],
   "source": [
    "string[0]"
   ]
  },
  {
   "cell_type": "code",
   "execution_count": 22,
   "metadata": {},
   "outputs": [],
   "source": [
    "timrk=[]\n",
    "timkmp=[]"
   ]
  },
  {
   "cell_type": "code",
   "execution_count": 23,
   "metadata": {},
   "outputs": [],
   "source": [
    "for i,j in enumerate(string):\n",
    "    start_time=time.time()\n",
    "    Rksearch(pattern,j,11)\n",
    "    timrk.append(time.time()-start_time)\n",
    "    start_time=time.time()\n",
    "    KMPSearch(pattern,j)\n",
    "    timkmp.append(time.time()-start_time)\n"
   ]
  },
  {
   "cell_type": "code",
   "execution_count": 24,
   "metadata": {},
   "outputs": [
    {
     "data": {
      "text/plain": [
       "[0.0,\n",
       " 0.0029904842376708984,\n",
       " 0.005950212478637695,\n",
       " 0.010937929153442383,\n",
       " 0.015956640243530273,\n",
       " 0.01894855499267578,\n",
       " 0.0299074649810791,\n",
       " 0.04987955093383789,\n",
       " 0.05984044075012207,\n",
       " 0.06981372833251953,\n",
       " 0.07878541946411133,\n",
       " 0.08978486061096191,\n",
       " 0.10069489479064941]"
      ]
     },
     "execution_count": 24,
     "metadata": {},
     "output_type": "execute_result"
    }
   ],
   "source": [
    "timkmp\n"
   ]
  },
  {
   "cell_type": "code",
   "execution_count": 25,
   "metadata": {},
   "outputs": [
    {
     "data": {
      "text/plain": [
       "[0.0,\n",
       " 0.006979465484619141,\n",
       " 0.01399683952331543,\n",
       " 0.022971391677856445,\n",
       " 0.031950950622558594,\n",
       " 0.040892839431762695,\n",
       " 0.060849905014038086,\n",
       " 0.10073065757751465,\n",
       " 0.12166237831115723,\n",
       " 0.14164280891418457,\n",
       " 0.16157054901123047,\n",
       " 0.18149423599243164,\n",
       " 0.20442867279052734]"
      ]
     },
     "execution_count": 25,
     "metadata": {},
     "output_type": "execute_result"
    }
   ],
   "source": [
    "timrk"
   ]
  },
  {
   "cell_type": "markdown",
   "metadata": {},
   "source": [
    "### COMPARISION GRAPH"
   ]
  },
  {
   "cell_type": "code",
   "execution_count": 26,
   "metadata": {},
   "outputs": [],
   "source": [
    "import matplotlib.pyplot as plt"
   ]
  },
  {
   "cell_type": "code",
   "execution_count": 27,
   "metadata": {},
   "outputs": [
    {
     "data": {
      "image/png": "[encoded data removed]",
      "text/plain": [
       "<Figure size 432x288 with 1 Axes>"
      ]
     },
     "metadata": {
      "needs_background": "light"
     },
     "output_type": "display_data"
    }
   ],
   "source": [
    "plt.plot(size,timkmp,'--o',label='KMP ALGO')\n",
    "plt.plot(size,timrk,'-b',label='RABIN-KARP ALGO')\n",
    "plt.xlabel('INPUT SIZE (n->∞)')\n",
    "plt.ylabel('TIME TAKEN (in Seconds)')\n",
    "plt.legend()\n",
    "plt.show()"
   ]
  }
 ],
 "metadata": {
  "kernelspec": {
   "display_name": "Python 3",
   "language": "python",
   "name": "python3"
  },
  "language_info": {
   "codemirror_mode": {
    "name": "ipython",
    "version": 3
   },
   "file_extension": ".py",
   "mimetype": "text/x-python",
   "name": "python",
   "nbconvert_exporter": "python",
   "pygments_lexer": "ipython3",
   "version": "3.7.3"
  }
 },
 "nbformat": 4,
 "nbformat_minor": 2
}
